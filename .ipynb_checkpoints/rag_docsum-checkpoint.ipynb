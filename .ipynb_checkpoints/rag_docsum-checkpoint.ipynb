{
 "cells": [
  {
   "cell_type": "code",
   "execution_count": 41,
   "id": "cde33614",
   "metadata": {},
   "outputs": [],
   "source": [
    "import os\n",
    "import openai\n",
    "import time\n",
    "\n",
    "os.environ[\"OPENAI_API_KEY\"] = \"\"\n",
    "openai.api_key = os.environ[\"OPENAI_API_KEY\"]"
   ]
  },
  {
   "cell_type": "code",
   "execution_count": 2,
   "id": "b0262b63",
   "metadata": {},
   "outputs": [],
   "source": [
    "import nest_asyncio\n",
    "nest_asyncio.apply()"
   ]
  },
  {
   "cell_type": "code",
   "execution_count": 3,
   "id": "3c76ac4b",
   "metadata": {
    "scrolled": true
   },
   "outputs": [],
   "source": [
    "from llama_index.core import SimpleDirectoryReader, get_response_synthesizer\n",
    "from llama_index.core import DocumentSummaryIndex\n",
    "from llama_index.llms.openai import OpenAI\n",
    "from llama_index.core.node_parser import SentenceSplitter"
   ]
  },
  {
   "cell_type": "markdown",
   "id": "98ab6984",
   "metadata": {},
   "source": [
    "### Loading Data"
   ]
  },
  {
   "cell_type": "code",
   "execution_count": 4,
   "id": "1aefe21f",
   "metadata": {},
   "outputs": [],
   "source": [
    "## Ingesting documents from Local\n",
    "\n",
    "\n",
    "data_root = \"./ritika_data/\"\n",
    "\n",
    "filenames = [\"Decarbonizing-the-Built-World-A-Call-to-Action-2023-03-07\",\n",
    "             \"Digital-Twin-Capabilities-Periodic-Table-User-Guide\",\n",
    "             \"Digital-Twin-System-Interoperability-Framework-12072021\",\n",
    "             \"DTC-Reality-Capture-Industry-User-Guide-for-Tenant-Improvement-Projects-2023-06-07\",\n",
    "             \"Infrastructure-Digital-Twin-Maturity-Model\",\n",
    "             \"Platform-Stack-Architectural-Framework\",\n",
    "             \"Reality-Capture-A-Digital-Twin-Foundation\",\n",
    "             \"SMM-Digital-Twin-Profile-2022-06-20\",\n",
    "             \"User-Guide-1-Why-and-What-2023-07-18\",\n",
    "             \"User-Guide-2-Identifying-and-Aligning\",\n",
    "             \"User-Guide-3_A-Whole_Systems_Approach\",\n",
    "             \"CV_Ritika Sehgal_14th Feb\"]\n",
    "\n",
    "docs = []\n",
    "\n",
    "for filename in filenames:\n",
    "    doc = SimpleDirectoryReader(input_files=[f\"{data_root}/{filename}.pdf\"]).load_data()\n",
    "    doc[0].doc_id = filename.replace(\".pdf\",\"\")\n",
    "    docs.extend(doc)"
   ]
  },
  {
   "cell_type": "markdown",
   "id": "d1b02e3a",
   "metadata": {
    "editable": true,
    "slideshow": {
     "slide_type": ""
    },
    "tags": []
   },
   "source": [
    "### Building Document Summary index"
   ]
  },
  {
   "cell_type": "code",
   "execution_count": 5,
   "id": "5e46b475",
   "metadata": {},
   "outputs": [],
   "source": [
    "from llama_index.core.indices.service_context import ServiceContext"
   ]
  },
  {
   "cell_type": "code",
   "execution_count": 6,
   "id": "a707be0e",
   "metadata": {},
   "outputs": [],
   "source": [
    "llm = OpenAI(model=\"gpt-3.5-turbo-0125\", temperature=0)\n",
    "text_splitter = SentenceSplitter(chunk_size=3000)\n",
    "embed_model = OpenAI(model=\"text-embedding-3-large\")"
   ]
  },
  {
   "cell_type": "code",
   "execution_count": 7,
   "id": "6f0594f1",
   "metadata": {},
   "outputs": [
    {
     "data": {
      "application/vnd.jupyter.widget-view+json": {
       "model_id": "a52fa6f151c34b16bbe07dcb2c7408a5",
       "version_major": 2,
       "version_minor": 0
      },
      "text/plain": [
       "Parsing nodes:   0%|          | 0/257 [00:00<?, ?it/s]"
      ]
     },
     "metadata": {},
     "output_type": "display_data"
    },
    {
     "data": {
      "application/vnd.jupyter.widget-view+json": {
       "model_id": "f1b6ec2718f549f797bc99fdc6664898",
       "version_major": 2,
       "version_minor": 0
      },
      "text/plain": [
       "Summarizing documents:   0%|          | 0/257 [00:00<?, ?it/s]"
      ]
     },
     "metadata": {},
     "output_type": "display_data"
    },
    {
     "name": "stdout",
     "output_type": "stream",
     "text": [
      "current doc id: Decarbonizing-the-Built-World-A-Call-to-Action-2023-03-07\n",
      "current doc id: 01e62995-0ba7-473a-b4b8-ee5aa1409797\n",
      "current doc id: 99eab8c3-0d7b-48c4-8f01-f69084e81da4\n",
      "current doc id: 4df4354b-0311-4345-8da0-6b6009621f77\n",
      "current doc id: 68ce58be-40d4-483a-98ef-ece579a09bcf\n",
      "current doc id: 8806fd2d-cdf2-44fc-9611-1f1dcf2f7f20\n",
      "current doc id: 60337c0a-ab62-43db-b2fb-1db811449000\n",
      "current doc id: d837134a-5f85-4497-8367-c9c83689d9b7\n",
      "current doc id: 8bc0f6ed-08e1-4d2a-8a12-9b39e963d194\n",
      "current doc id: 05f7f0bc-b4d7-4229-ae4f-9e0c167bb920\n",
      "current doc id: 331b8e64-5eac-4244-8cab-331193444a2b\n",
      "current doc id: 48ef52a7-7057-40e0-a25c-09b1f9ba81a6\n",
      "current doc id: 1ebc7a8c-21ab-4bcd-ba4a-16e621b66299\n",
      "current doc id: 4836b878-97c9-4dae-bcd9-b501ff3b3a02\n",
      "current doc id: 204fadc0-07c5-4d47-99ee-cd8bb06e0d20\n",
      "current doc id: Digital-Twin-Capabilities-Periodic-Table-User-Guide\n",
      "current doc id: 9c2ee515-099a-4aa5-a1f7-850dac20a700\n",
      "current doc id: ab5de785-4433-49ec-86c8-302b2956780c\n",
      "current doc id: da20513b-8c69-4aca-beaa-371aa0b8e6bf\n",
      "current doc id: 62c48d63-dbc6-40b8-8e88-5620a84cf6bf\n",
      "current doc id: 1cbae04c-8e21-4763-8eb4-d83fa4750ff7\n",
      "current doc id: 4319c740-90d3-45dc-bd46-93c54f0b94c8\n",
      "current doc id: 3f9269e7-e953-4632-94f5-c8fb20fdc24e\n",
      "current doc id: 83d20c39-bf0c-4b96-a595-007323dcd62d\n",
      "current doc id: 084e48c4-3806-4708-9575-08010d90de4b\n",
      "current doc id: 156f1486-08e0-418c-ac73-93d61487dc1a\n",
      "current doc id: e302b164-2349-4872-8e6d-4aec0d98e3d0\n",
      "current doc id: eb4d8122-1c5c-4274-8955-ecc4758d1f79\n",
      "current doc id: 47db1649-6a70-4cff-bc2c-657d8d501094\n",
      "current doc id: 83cca23a-4bd6-45ff-8966-0962dbc467d4\n",
      "current doc id: 965e7b76-e89e-4a88-abbf-a3a7bd39b0be\n",
      "current doc id: 500fa8d3-76a9-4b1f-ab3c-f11947e617b2\n",
      "current doc id: b74eb542-4ba4-42c6-9731-80e89868d1e9\n",
      "current doc id: 1162d554-45b4-4996-9ea3-45e7dd40b10d\n",
      "current doc id: dcab9caf-2aab-4be2-b7e0-c7014d8c4278\n",
      "current doc id: f7777cc3-5757-4bb5-ab7c-86683b304dd7\n",
      "current doc id: d75d5df4-bbb4-4a4d-9153-5436a08ac89f\n",
      "current doc id: 68a733ca-566a-42fc-bc99-007d8f8955a0\n",
      "current doc id: 5b8dc524-fe30-45a9-9505-9cf1f6507647\n",
      "current doc id: 32b22b4a-95c7-4443-8102-4659897eb79b\n",
      "current doc id: ebd118b5-9ee2-4561-9e61-31a826f60125\n",
      "current doc id: f927c7ab-444b-4016-a559-1a8b72c5bced\n",
      "current doc id: Digital-Twin-System-Interoperability-Framework-12072021\n",
      "current doc id: 0a6c6a48-3ef9-4c44-80d2-9b9f4e3cad74\n",
      "current doc id: 2ea8a1cf-7466-4643-b909-782b3ce31d1d\n",
      "current doc id: 75102bc5-1130-43ef-99e9-1461d29856b7\n",
      "current doc id: 0383c147-dec5-4733-93d8-0f2eef82a251\n",
      "current doc id: 564f44db-3f72-4e6b-8e29-da2b1a42ae00\n",
      "current doc id: c55ecf2d-d85a-4aa3-8625-e28d0e57885f\n",
      "current doc id: c3bb0c49-95a4-4c1e-a329-52ef0c31e02c\n",
      "current doc id: d12789cf-fa02-441a-8690-79c237533aae\n",
      "current doc id: 1f799fc8-5f9a-4d31-b359-1dcbd9c1a557\n",
      "current doc id: 9c357d41-617e-421c-bec3-5f7c38320321\n",
      "current doc id: fc8db7c5-338a-494c-9311-0813f04db0ed\n",
      "current doc id: a6e7e1bc-5de0-48bd-8589-b4ff07b45ce5\n",
      "current doc id: ace1eecc-f545-44d3-ab90-289e7b709b16\n",
      "current doc id: 1e93648f-31a0-4bff-af29-310207717d58\n",
      "current doc id: a2dccc88-f111-485e-8ab6-cc343351acc3\n",
      "current doc id: 2c8f5856-1576-47e3-854d-4dc29118cc76\n",
      "current doc id: 8200f03e-0aef-4762-86df-4ce8409cc511\n",
      "current doc id: ab672250-93a8-4d5d-b989-2c54e72deb0f\n",
      "current doc id: 1a48d32f-ae19-46ed-85f2-6ce2f800935c\n",
      "current doc id: 1108f109-b586-4f52-8376-4fcb2eca53bf\n",
      "current doc id: b870cd37-f776-43f9-843e-e0e57bf3ce3d\n",
      "current doc id: b2197cdb-4850-4a43-b4ab-7dc42dd3327b\n",
      "current doc id: fd1fc2e8-8f1b-4856-a746-a86b590dcd97\n",
      "current doc id: b3ea611e-aca9-42bc-ba3b-a43b2ddadb59\n",
      "current doc id: DTC-Reality-Capture-Industry-User-Guide-for-Tenant-Improvement-Projects-2023-06-07\n",
      "current doc id: cda9db91-e784-457b-b2d4-5c29a9f304e6\n",
      "current doc id: f133d779-d31d-4565-85ed-8c9ba687304c\n",
      "current doc id: 26a6aafa-32a0-4624-a922-22a1009a16c8\n",
      "current doc id: 2d3ce3d3-5247-46f7-bfa6-aef7f8ce3a1e\n",
      "current doc id: 612d78c6-a2a1-4e50-b7c4-a4633f9a4f11\n",
      "current doc id: 999bdb3e-6919-44dc-9179-62584bece7fd\n",
      "current doc id: a558dc97-686c-4932-934b-a713ce13ab26\n",
      "current doc id: 0cbf7b59-1284-4b48-9b3f-8dc5f6254b7e\n",
      "current doc id: a8ba35ae-a34e-40bb-85ab-ef3dc4a2fff1\n",
      "current doc id: d2efd90b-cdbc-4788-995b-aa04fcec883d\n",
      "current doc id: 8ed38f70-8754-46db-9a7e-8d3e9b7a5abb\n",
      "current doc id: Infrastructure-Digital-Twin-Maturity-Model\n",
      "current doc id: 02fd3093-1d73-4589-b444-320d0cfc39a8\n",
      "current doc id: 8a6a5db4-fff8-4fdb-b594-f7d93328f88a\n",
      "current doc id: 32c4963d-8ade-442b-b136-e4cb62dc4252\n",
      "current doc id: 8fc3727f-a7c8-458e-ba79-ef2a0b1d2789\n",
      "current doc id: 8de0f0ca-e2a5-4af9-a468-e0c6494d92d9\n",
      "current doc id: 7110ba4e-5e55-4317-be4f-8e45fbb05f20\n",
      "current doc id: 80a224cb-361b-412d-922f-53afb99a7fbe\n",
      "current doc id: 20d06ff6-5760-4fcd-96f9-fce80dac70f9\n",
      "current doc id: c1455cc7-d269-417d-8ee9-b3160c81519a\n",
      "current doc id: 06c15d2e-429f-4ae7-953d-0247c3d2eaa5\n",
      "current doc id: 0b6b1854-7b0f-4b19-916b-c84524d92bb9\n",
      "current doc id: 628618e4-2765-40ce-b443-ac0490736000\n",
      "current doc id: acdb425e-468e-4a16-8ea4-ecb09efbfbb1\n",
      "current doc id: 9b8078ad-1774-4247-a7f9-8bb72dac83fd\n",
      "current doc id: Platform-Stack-Architectural-Framework\n",
      "current doc id: 70914676-1b82-4cb5-9d0d-77d6f861a285\n",
      "current doc id: 23288e79-d478-4ef8-b882-021c080326ad\n",
      "current doc id: aeb8e667-42a5-4c36-acbe-cb25479e3ac2\n",
      "current doc id: 2505d1d0-ca2a-4e2f-8956-ef3839779379\n",
      "current doc id: 006650ce-15df-48dd-bb26-9858e7cf95a3\n",
      "current doc id: baae3100-73bf-4f09-9719-af7b3f5ee06a\n",
      "current doc id: 59723f29-dd69-48d3-8140-32a0ed1cffe4\n",
      "current doc id: 8c3f95b9-c17a-4024-89c1-bbaabae5dcd7\n",
      "current doc id: 8a6abc6a-763f-4d87-83ae-c77cca871b96\n",
      "current doc id: 8182376d-0b8e-4f18-9b54-b136079cfbdc\n",
      "current doc id: b62a1614-f2f6-4a51-b806-d80ffdbcaae2\n",
      "current doc id: 0e5e2da0-e444-4eba-bf84-c616403cf139\n",
      "current doc id: 85d5b604-e6be-4228-a306-c797a7e8aab6\n",
      "current doc id: edf3ca51-57e4-437a-b668-5c793c324634\n",
      "current doc id: 77754e86-930a-4b18-8cf2-5f17663dec9f\n",
      "current doc id: 11e4bfcd-3948-44af-b3e5-9f6b7855547c\n",
      "current doc id: 9501ebd1-0963-420e-8db4-a2adc025b29f\n",
      "current doc id: 290384c8-f097-41a3-9fb5-d5718f7a5943\n",
      "current doc id: 7cc8f36e-f0e0-45b6-a3b6-cf54510daa84\n",
      "current doc id: 331a0f6e-eff0-4dd6-811c-912bed49396c\n",
      "current doc id: 90dbc811-5ac6-43e7-9a4e-4d72fa928ce7\n",
      "current doc id: 73589beb-180d-4916-8a50-6f3b04a93e90\n",
      "current doc id: 9c50d30a-9042-42fc-8bd8-c8f1e01d3a0c\n",
      "current doc id: 7f6ce6bc-702e-4cd6-b729-1733feda4422\n",
      "current doc id: 9f27bf09-829b-4c1b-8787-7a13765a90c0\n",
      "current doc id: 37a58bc6-06c5-46e8-8e75-00810f06bb40\n",
      "current doc id: bac43d01-82d7-4c6e-984c-d8f3bb05c126\n",
      "current doc id: aefedac6-2eaf-486c-a82b-4e547d2980e1\n",
      "current doc id: 64c206e9-8781-469c-9643-c9db474af0d7\n",
      "current doc id: 4d52cb93-0aaa-4b77-a90a-358489545954\n",
      "current doc id: 37a03fde-bbc7-487e-988e-c54d8859af2c\n",
      "current doc id: 9e74a50a-a8c1-4a94-a9c3-bcc418ee463f\n",
      "current doc id: 38aac42b-0648-498f-ae39-e69bb96152c2\n",
      "current doc id: fd589421-3e58-46f1-a7b5-519631ac036b\n",
      "current doc id: c269c1a7-68b2-4819-b901-fda1c69c2383\n",
      "current doc id: d17e07ec-9796-414b-b349-695dd48d877f\n",
      "current doc id: 912fffd5-ad1a-4d2f-9680-cfebe80e6253\n",
      "current doc id: 6bb52c5f-3a3d-4b0c-9687-ca1a3be6fbe2\n",
      "current doc id: 0c6aa2c1-467d-4304-a01d-4348fb567c74\n",
      "current doc id: 588366b4-52c8-4372-92f1-47f347f3e023\n",
      "current doc id: 09312a45-605f-4f3f-bf62-455d8ff7fa08\n",
      "current doc id: a24d24a7-1971-4047-9c9b-cbb232dd44a0\n",
      "current doc id: 57f1d6fe-10de-460e-afd8-8e6b689b62b7\n",
      "current doc id: 937f5cc4-7a9f-4dc7-bc4b-a075a3a2aa67\n",
      "current doc id: ea2aecdc-b470-4c27-aafe-cd6364cc90af\n",
      "current doc id: eb35146b-be82-46ac-989b-ccc83c515096\n",
      "current doc id: fb11462d-1b53-4ef1-bdb3-508a2a799f81\n",
      "current doc id: 65c328ed-3224-400e-ab45-28d44e10fca2\n",
      "current doc id: Reality-Capture-A-Digital-Twin-Foundation\n",
      "current doc id: 30d97802-2ab5-4e52-8fa4-2db9fbbe222e\n",
      "current doc id: 93d434c4-d466-4266-b5b4-730472a14dc6\n",
      "current doc id: 451afcd7-914c-4bd5-b1d2-1f3d3b6de52e\n",
      "current doc id: 4d6453b8-ac22-4dc0-a2de-34fed12a6cd2\n",
      "current doc id: 46c88c2f-9c0d-4d2b-a18e-eb5afcd70489\n",
      "current doc id: e47a87f8-0abd-4a2e-8c64-799a5344c502\n",
      "current doc id: d7adb268-7347-4e63-b52d-ed66319184fd\n",
      "current doc id: 3b1d02b2-4cf1-4d24-814f-2bd9afce4e44\n",
      "current doc id: b5ed5ba1-6860-4ad5-975e-bbee928ff929\n",
      "current doc id: 0bbc4c90-9245-4741-9f9c-b5fbc4a2c6d7\n",
      "current doc id: 97b7aedc-0191-4775-8a48-838317206c15\n",
      "current doc id: a6ed7ec0-f6cf-4bd0-b7dc-24959e0ca0ab\n",
      "current doc id: SMM-Digital-Twin-Profile-2022-06-20\n",
      "current doc id: 2d93deea-228e-4534-8659-6bcd60957bab\n",
      "current doc id: f25ade8f-12e5-4463-8eb6-a3d46ddc3761\n",
      "current doc id: f31c20b6-0874-4d31-9de9-a8b4cc54b6be\n",
      "current doc id: d382e829-b4f0-42aa-8ed8-40e1233bf5a0\n",
      "current doc id: 04aee6e5-c7af-4880-b3af-660d70c418ec\n",
      "current doc id: 96abf55d-61f3-422d-9619-06d0e0cb82d3\n",
      "current doc id: 1cae4001-7519-4479-819d-e4766b619ae0\n",
      "current doc id: 5c70591d-2684-456e-bf5d-674c521db7b9\n",
      "current doc id: 3bc9b41a-2197-406c-ae30-67230c38223c\n",
      "current doc id: e03bddef-5586-4175-a544-20ea09b76c5c\n",
      "current doc id: f8c91636-85e2-4046-b01f-ddb45a83233e\n",
      "current doc id: 5c6d1d08-17bf-41c5-9dc8-4fd1d3b021f9\n",
      "current doc id: fbfe03f3-8892-4cd1-8b1c-fc42442e69fd\n",
      "current doc id: e666097e-a69a-4327-97c7-cc0d9cc7633f\n",
      "current doc id: 9ed717a9-fac7-46f7-9cf9-a8749dcfd9b4\n",
      "current doc id: 3030886a-3c69-4ab6-94e2-3f70bf068afc\n",
      "current doc id: 0c76162d-a503-46b7-8454-923ba52324bf\n",
      "current doc id: 25e9495e-2eec-464a-b158-15d22033c781\n",
      "current doc id: 5f59a6c7-762a-45b4-a063-49076b85b412\n",
      "current doc id: 9d5c801b-67d7-4087-a958-b2b339e2f158\n",
      "current doc id: 5387970b-1476-47d5-93cc-a0a44ef04ac6\n",
      "current doc id: 91d5ef13-1a57-4bf7-bdd7-f44c80bacf04\n",
      "current doc id: 7c69332b-a0ff-4c3e-9683-a3cc60af746e\n",
      "current doc id: 2b98eae3-7328-4e83-9a74-c6e4ce052284\n",
      "current doc id: 6a6de3d0-b13d-4daf-970c-a8b50e146129\n",
      "current doc id: d429006e-34c3-4434-8f0e-d98fbb806f67\n",
      "current doc id: c1839b75-6bf9-4a37-a9c8-ed0c47a52193\n",
      "current doc id: e0c5b087-3c94-4903-acb5-65873e34dc3b\n",
      "current doc id: 6412fdad-ae18-49e6-b759-6aa8d58ddb79\n",
      "current doc id: 9545550f-90bd-43dd-a7f9-eb8a44e85053\n",
      "current doc id: eb52a0c1-0f28-4a50-b8b1-646f251c7733\n",
      "current doc id: 848d1801-3a4e-4549-aaf6-0942f9a8a8d0\n",
      "current doc id: c1afea19-5037-479a-9800-c4c1fe8ff291\n",
      "current doc id: 8824c8fa-780f-40d4-a382-0629f4befadc\n",
      "current doc id: 849fc289-90f2-45c3-965e-10685261c2e5\n",
      "current doc id: 18d9337c-88e8-456b-af12-30dfbda2aa44\n",
      "current doc id: 2f744593-f177-4a56-b3b9-779edda62d5a\n",
      "current doc id: fcd0c760-4eac-4850-a577-62096f3156e4\n",
      "current doc id: ef89aaaf-b3bf-42d7-a109-f6d20e7313e5\n",
      "current doc id: d5f3942e-ad64-4d24-a3cf-df84c22f3faa\n",
      "current doc id: e548c573-e748-4971-9759-33b8ee5d88d6\n",
      "current doc id: fb1d479b-925e-4d4c-a5af-187fa76cc84b\n",
      "current doc id: 72fc7351-9712-4799-a5a8-92f9ca9983e7\n",
      "current doc id: c2061d74-bcf5-43ce-8a81-f0cd58b6c8fa\n",
      "current doc id: 88149f07-2a1b-45ac-bf8e-87780f61c73d\n",
      "current doc id: c8ed3504-c89f-4bd1-bd2b-2ddcc2912bc7\n",
      "current doc id: 31de96be-712f-4a95-b2f7-4925d373f0a2\n",
      "current doc id: 3660cecf-057b-4aae-a74b-b3a3386d68da\n",
      "current doc id: 7f43c9ce-de25-4602-8e54-20eb6c24fe21\n",
      "current doc id: 07794c23-b4a9-411b-aa60-d98e0eb284de\n",
      "current doc id: d5a36f74-d1f2-442f-8522-e52282245122\n",
      "current doc id: 6daf9ec7-d95c-4207-84ef-8735edef9818\n",
      "current doc id: c164b198-de8e-42d4-bf55-10f803bafb1a\n",
      "current doc id: User-Guide-1-Why-and-What-2023-07-18\n",
      "current doc id: 6f7e2a42-f1f2-4703-84fc-e3b0c55d4b83\n",
      "current doc id: 83c5b48c-02f0-4058-841a-b17ce031b87c\n",
      "current doc id: bce74eb2-5394-475b-baf1-4f66b67e1daf\n",
      "current doc id: ab4b077c-2178-4394-b7ae-94ccc85b9cb9\n",
      "current doc id: 2b780950-13e6-4d74-8e8f-0e68196103f2\n",
      "current doc id: 035285c3-10f2-4a12-8fcb-30083eb51081\n",
      "current doc id: ba353532-6d8b-47b0-a083-cce393b4e54d\n",
      "current doc id: 2439bd28-39df-4175-bf28-3927827a5cdb\n",
      "current doc id: 29649ece-4cd3-4378-8906-0d030b208923\n",
      "current doc id: 40494280-4ee4-441e-965e-87678e0898b7\n",
      "current doc id: 1a09e5c2-1456-4611-bb66-360707f416b2\n",
      "current doc id: bded2f87-1bc9-4a13-821d-0a208a8b4d46\n",
      "current doc id: 5a9fc270-4a8a-4bca-85d3-10f11291836d\n",
      "current doc id: b8d6f532-4810-40b7-82d4-5e7a4965cf96\n",
      "current doc id: c6577b34-8fef-4a5a-8e2c-7bb9f6312e35\n",
      "current doc id: 70393b96-46cc-4b7b-a434-2fd428c3eca4\n",
      "current doc id: User-Guide-2-Identifying-and-Aligning\n",
      "current doc id: ed634e6e-8a09-486e-a7b8-2d9a6b37e405\n",
      "current doc id: bbda6258-6fcb-4ee9-a1a2-10bb3881b7aa\n",
      "current doc id: 055a08c4-44c8-4c23-bd25-29d11e4582b0\n",
      "current doc id: e1d6d2e4-003c-43c0-989e-865aac36ee47\n",
      "current doc id: 68bcb0a9-8a36-48c7-9dde-6141d31a638a\n",
      "current doc id: 686c30ea-ee14-4392-8deb-324cdb6631b5\n",
      "current doc id: b578fe27-16a1-4d13-af2f-09e65f9e22b6\n",
      "current doc id: 29362517-d84f-4591-aef0-a533ed7dfa03\n",
      "current doc id: ed17a358-572e-4063-9538-6480fb90101c\n",
      "current doc id: b5b8bd4d-bd7d-4d46-b30f-82796d87eb68\n",
      "current doc id: 95b904a6-a32d-4eb0-97de-e702b0d61850\n",
      "current doc id: 74cca458-57ee-4542-a0dc-76498bcd8eda\n",
      "current doc id: User-Guide-3_A-Whole_Systems_Approach\n",
      "current doc id: 95256fcd-e900-4f3e-ac67-32475da18696\n",
      "current doc id: fb02f6c2-2b1e-455a-b1f6-2aaeee4deb09\n",
      "current doc id: 6cd15ae3-1a65-4443-b76b-b99f2a5b667b\n",
      "current doc id: cb85ce1c-bb61-4ee9-b939-42aeb6e324ea\n",
      "current doc id: a5fe1efc-3b14-4f1f-a4e6-e26ee6b04d19\n",
      "current doc id: 42251d36-1404-4e8d-a151-bb27125bbafc\n",
      "current doc id: 4aa8f282-4576-4949-beee-b88ee57ae239\n",
      "current doc id: 5eaab273-fa2d-4da7-9d2e-a0062d874f5d\n",
      "current doc id: 1ed23014-de5e-4878-ba97-c5a9658fb58a\n",
      "current doc id: dd88fa28-6ebc-4cca-8b3d-8921fa2f6160\n",
      "current doc id: b934b5e7-609d-4e90-bcc8-c75046bc7db6\n",
      "current doc id: d281cdcd-cba8-4c6c-b506-bc30bb368ff3\n",
      "current doc id: 626626a9-79f8-4f80-8c89-41acf769b1bf\n",
      "current doc id: d702d09b-4641-4ac4-ad7e-fe6ba32899c9\n",
      "current doc id: CV_Ritika Sehgal_14th Feb\n",
      "current doc id: cb77c6c8-5ef5-4abb-b399-3684b043927a\n"
     ]
    },
    {
     "data": {
      "application/vnd.jupyter.widget-view+json": {
       "model_id": "85c5748a5df349ca9aef0c546efa57d8",
       "version_major": 2,
       "version_minor": 0
      },
      "text/plain": [
       "Generating embeddings:   0%|          | 0/257 [00:00<?, ?it/s]"
      ]
     },
     "metadata": {},
     "output_type": "display_data"
    },
    {
     "name": "stdout",
     "output_type": "stream",
     "text": [
      "--- 633.0902972221375 seconds ---\n"
     ]
    }
   ],
   "source": [
    "## Ingesting documents; Generating summaries, creating embeddings of document nodes\n",
    "start_time = time.time()\n",
    "\n",
    "response_synthesizer = get_response_synthesizer(\n",
    "    response_mode = \"tree_summarize\", use_async=True\n",
    ")\n",
    "\n",
    "doc_summary_index = DocumentSummaryIndex.from_documents(\n",
    "    docs,\n",
    "    llm=llm,\n",
    "    transformations=[text_splitter],\n",
    "    response_synthesizer=response_synthesizer,\n",
    "    show_progress=True)\n",
    "\n",
    "print(\"--- %s seconds ---\" % (time.time() - start_time))"
   ]
  },
  {
   "cell_type": "code",
   "execution_count": 9,
   "id": "2e2722a8",
   "metadata": {},
   "outputs": [
    {
     "data": {
      "text/plain": [
       "\"The text discusses the importance of embedding performance evaluation throughout all stages of a building's lifecycle to achieve decarbonization in the built environment. It emphasizes the role of a digital twin in providing data-driven information to uncover energy, carbon, capital, and operational savings. The text also highlights the benefits of using robust physics-based modeling from the conceptual design stages to building operation, such as improving energy efficiency, indoor comfort, environmental design, and future adaptability of buildings.\\n\\nSome questions that this text can answer include:\\n- How can performance evaluation be integrated into all stages of a building's lifecycle?\\n- What is the role of a digital twin in decarbonizing the built environment?\\n- What are the benefits of using physics-based modeling in building design and operation?\\n- How can discussions about key performance metrics be initiated in the early stages of a building project?\\n- Why is it important to monitor and report on key project performance metrics at every stage of a building's lifecycle?\""
      ]
     },
     "execution_count": 9,
     "metadata": {},
     "output_type": "execute_result"
    }
   ],
   "source": [
    "doc_summary_index.get_document_summary(\"b934b5e7-609d-4e90-bcc8-c75046bc7db6\")"
   ]
  },
  {
   "cell_type": "code",
   "execution_count": 10,
   "id": "58a1643a",
   "metadata": {},
   "outputs": [
    {
     "data": {
      "text/plain": [
       "'import re\\ninput_text = doc_summary_index.get_document_summary(\"644a1344-e8b0-46f2-b81e-792e3124dca2\")\\nquestion_pattern1 = r\\'\\n\\n- (.*[?])\\'\\nquestion_pattern2 = r\\'\\n\\n- (.*?)(?:\\n\\n|$)\\'\\nif re.findall(question_pattern1, input_text):\\n    sample_qs = re.findall(question_pattern1, input_text)\\nelse:\\n    sample_qs = re.findall(question_pattern2, input_text)\\nsample_qs'"
      ]
     },
     "execution_count": 10,
     "metadata": {},
     "output_type": "execute_result"
    }
   ],
   "source": [
    "### Question Extraction ###\n",
    "\n",
    "'''import re\n",
    "input_text = doc_summary_index.get_document_summary(\"644a1344-e8b0-46f2-b81e-792e3124dca2\")\n",
    "question_pattern1 = r'\\n\\n- (.*[?])'\n",
    "question_pattern2 = r'\\n\\n- (.*?)(?:\\n\\n|$)'\n",
    "if re.findall(question_pattern1, input_text):\n",
    "    sample_qs = re.findall(question_pattern1, input_text)\n",
    "else:\n",
    "    sample_qs = re.findall(question_pattern2, input_text)\n",
    "sample_qs'''    "
   ]
  },
  {
   "cell_type": "code",
   "execution_count": 14,
   "id": "8d499a09",
   "metadata": {},
   "outputs": [],
   "source": [
    "## Storing local vector store\n",
    "\n",
    "from llama_index.core import load_index_from_storage\n",
    "from llama_index.core import StorageContext\n",
    "\n",
    "doc_summary_index.storage_context.persist(\"ritika_vectorstore\")\n",
    "storage_context = StorageContext.from_defaults(persist_dir=\"ritika_vectorstore\")\n",
    "doc_summary_index = load_index_from_storage(storage_context)"
   ]
  },
  {
   "cell_type": "markdown",
   "id": "47c95d04-2a09-4544-986a-95c2ac0cff2e",
   "metadata": {},
   "source": [
    "### Embeddings retreiver"
   ]
  },
  {
   "cell_type": "code",
   "execution_count": 20,
   "id": "d8376c02-69fa-4783-93d2-4336c6da69a1",
   "metadata": {},
   "outputs": [],
   "source": [
    "#from llama_index.core.prompts.base import Prompt\n",
    "#from llama_index.core.prompts.prompt_type import PromptType\n",
    "from llama_index.core import PromptTemplate\n",
    "from IPython.display import Markdown, display\n",
    "\n",
    "def display_prompt_dict(prompts_dict):\n",
    "    for k, p in prompts_dict.items():\n",
    "        text_md = f\"**Prompt Key**: {k}<br>\" f\"**Text:** <br>\"\n",
    "        display(Markdown(text_md))\n",
    "        print(p.get_template())\n",
    "        display(Markdown(\"<br><br>\"))\n",
    "\n",
    "new_summary_tmpl_str = (\n",
    "    \"Context information is below:\\n\"\n",
    "    \"---------------------\\n\"\n",
    "    \"{context_str}\\n\"\n",
    "    \"---------------------\\n\"\n",
    "    \"Given the context information and not prior knowledge, \"\n",
    "    \"answer the query in the style of a consultant at McKinsey who specializes in digital transformation strategies.\"\n",
    "    \"Your goal is to help business users succeed in their digital transformation journeys.\"\n",
    "    \"Do not use any context outside of these documents.\"\n",
    "    \"You should maintain a friendly yet professional tone.\"\n",
    "    \"Use crisp bullet points whenever relevant.\\n\"\n",
    "    \"Query: {query_str}\\n\"\n",
    "    \"Answer: \"\n",
    ")\n",
    "\n",
    "new_summary_tmpl = PromptTemplate(new_summary_tmpl_str)"
   ]
  },
  {
   "cell_type": "code",
   "execution_count": 21,
   "id": "4df11a00",
   "metadata": {},
   "outputs": [
    {
     "data": {
      "text/markdown": [
       "**Prompt Key**: response_synthesizer:summary_template<br>**Text:** <br>"
      ],
      "text/plain": [
       "<IPython.core.display.Markdown object>"
      ]
     },
     "metadata": {},
     "output_type": "display_data"
    },
    {
     "name": "stdout",
     "output_type": "stream",
     "text": [
      "Context information from multiple sources is below.\n",
      "---------------------\n",
      "{context_str}\n",
      "---------------------\n",
      "Given the information from multiple sources and not prior knowledge, answer the query.\n",
      "Query: {query_str}\n",
      "Answer: \n"
     ]
    },
    {
     "data": {
      "text/markdown": [
       "<br><br>"
      ],
      "text/plain": [
       "<IPython.core.display.Markdown object>"
      ]
     },
     "metadata": {},
     "output_type": "display_data"
    },
    {
     "data": {
      "text/markdown": [
       "**Prompt Key**: response_synthesizer:summary_template<br>**Text:** <br>"
      ],
      "text/plain": [
       "<IPython.core.display.Markdown object>"
      ]
     },
     "metadata": {},
     "output_type": "display_data"
    },
    {
     "name": "stdout",
     "output_type": "stream",
     "text": [
      "Context information is below:\n",
      "---------------------\n",
      "{context_str}\n",
      "---------------------\n",
      "Given the context information and not prior knowledge, answer the query in the style of a consultant at McKinsey who specializes in digital transformation strategies.Your goal is to help business users succeed in their digital transformation journeys.Do not use any context outside of these documents.You should maintain a friendly yet professional tone.Use crisp bullet points whenever relevant.\n",
      "Query: {query_str}\n",
      "Answer: \n"
     ]
    },
    {
     "data": {
      "text/markdown": [
       "<br><br>"
      ],
      "text/plain": [
       "<IPython.core.display.Markdown object>"
      ]
     },
     "metadata": {},
     "output_type": "display_data"
    }
   ],
   "source": [
    "from llama_index.core.query_engine import RetrieverQueryEngine\n",
    "from llama_index.core.indices.document_summary import (\n",
    "    DocumentSummaryIndexEmbeddingRetriever,\n",
    ")\n",
    "\n",
    "# Configuring response synthesizer\n",
    "response_synthesizer = get_response_synthesizer(response_mode=\"tree_summarize\")\n",
    "\n",
    "## Creating Retreiver object\n",
    "retriever = DocumentSummaryIndexEmbeddingRetriever(\n",
    "    doc_summary_index,\n",
    "    choice_batch_size=10,\n",
    "    choice_top_k=5\n",
    ")\n",
    "\n",
    "# Assembling query engine\n",
    "query_engine = RetrieverQueryEngine(\n",
    "    retriever=retriever,\n",
    "    response_synthesizer=response_synthesizer\n",
    ")\n",
    "\n",
    "## Checking default query prompt:\n",
    "prompts_dict = query_engine.get_prompts()\n",
    "display_prompt_dict(prompts_dict)\n",
    "\n",
    "## Modifying query prompt\n",
    "\n",
    "query_engine.update_prompts(\n",
    "    {\"response_synthesizer:summary_template\": new_summary_tmpl}\n",
    ")\n",
    "\n",
    "## Checking modified query prompt:\n",
    "prompts_dict = query_engine.get_prompts()\n",
    "display_prompt_dict(prompts_dict)\n",
    "\n"
   ]
  },
  {
   "cell_type": "code",
   "execution_count": 40,
   "id": "c70123fc-8872-408e-bf1b-c2da5a3bd9ba",
   "metadata": {},
   "outputs": [
    {
     "name": "stdout",
     "output_type": "stream",
     "text": [
      "- The Platform Stack Architectural Framework consists of various layers that work together to support digital transformation efforts:\n",
      "  - Infrastructure Layer: This includes the hardware and software components that form the foundation of the platform.\n",
      "  - Platform Layer: This layer provides the core services and capabilities that enable applications to run on top of the infrastructure.\n",
      "  - Application Layer: Here, specific applications and services are built and deployed to meet business needs.\n",
      "- Each layer in the framework plays a crucial role in enabling digital transformation:\n",
      "  - The Infrastructure Layer ensures the reliability and scalability of the platform.\n",
      "  - The Platform Layer provides the necessary tools and services for developers to build and deploy applications efficiently.\n",
      "  - The Application Layer delivers the end-user experience and functionality that drive business value.\n",
      "- By understanding and optimizing each layer of the Platform Stack Architectural Framework, businesses can create a solid foundation for their digital transformation initiatives.\n",
      "- It is essential to align the elements of the framework with the organization's overall digital strategy to maximize the benefits of digital transformation.\n",
      "--- 3.9117438793182373 seconds ---\n"
     ]
    }
   ],
   "source": [
    "### Generating response ###\n",
    "\n",
    "start_time = time.time()\n",
    "# query\n",
    "response = query_engine.query(\"Detail the elements of Platform Stack Architectural Framework?\")\n",
    "print(response)\n",
    "\n",
    "print(\"--- %s seconds ---\" % (time.time() - start_time))"
   ]
  },
  {
   "cell_type": "code",
   "execution_count": null,
   "id": "5f523f71-8e61-4918-8cd6-beae0c6d2b56",
   "metadata": {},
   "outputs": [],
   "source": [
    "### Checking the nodes rretreived to compare with source\n",
    "'''retrieved_nodes = retriever.retrieve(\"What is continuous Model-Based Commissioning?\")\n",
    "print(len(retrieved_nodes))\n",
    "print(retrieved_nodes[0].score)\n",
    "print(retrieved_nodes[0].node.get_text())'''"
   ]
  },
  {
   "cell_type": "code",
   "execution_count": null,
   "id": "f82fbf0c-ab1b-4cb6-a4be-6920a25ce799",
   "metadata": {},
   "outputs": [],
   "source": [
    "## Fin ##"
   ]
  },
  {
   "cell_type": "code",
   "execution_count": null,
   "id": "bd079141",
   "metadata": {},
   "outputs": [],
   "source": []
  }
 ],
 "metadata": {
  "kernelspec": {
   "display_name": "rag_venv",
   "language": "python",
   "name": "rag_venv"
  },
  "language_info": {
   "codemirror_mode": {
    "name": "ipython",
    "version": 3
   },
   "file_extension": ".py",
   "mimetype": "text/x-python",
   "name": "python",
   "nbconvert_exporter": "python",
   "pygments_lexer": "ipython3",
   "version": "3.8.2"
  }
 },
 "nbformat": 4,
 "nbformat_minor": 5
}
